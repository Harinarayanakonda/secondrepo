{
 "cells": [
  {
   "cell_type": "markdown",
   "id": "cd50773b",
   "metadata": {},
   "source": [
    "## My First Project to find perform Arthimetic operations of two numbers\n"
   ]
  },
  {
   "cell_type": "code",
   "execution_count": 2,
   "id": "0b1b2656",
   "metadata": {},
   "outputs": [
    {
     "name": "stdout",
     "output_type": "stream",
     "text": [
      "Addition: 9.0\n",
      "Subtraction: -1.0\n",
      "Multiplication: 20.0\n",
      "Division: 0.8\n",
      "Division: 0.8\n"
     ]
    }
   ],
   "source": [
    "a = float(input(\"Enter first number: \"))\n",
    "b = float(input(\"Enter second number: \"))\n",
    "\n",
    "print(\"Addition:\", a + b)\n",
    "print(\"Subtraction:\", a - b)\n",
    "print(\"Multiplication:\", a * b)\n",
    "print(\"Division:\", a / b)\n",
    "print(\"Division:\", a / b)"
   ]
  }
 ],
 "metadata": {
  "kernelspec": {
   "display_name": "Python 3 (ipykernel)",
   "language": "python",
   "name": "python3"
  },
  "language_info": {
   "codemirror_mode": {
    "name": "ipython",
    "version": 3
   },
   "file_extension": ".py",
   "mimetype": "text/x-python",
   "name": "python",
   "nbconvert_exporter": "python",
   "pygments_lexer": "ipython3",
   "version": "3.12.3"
  }
 },
 "nbformat": 4,
 "nbformat_minor": 5
}
